{
  "cells": [
    {
      "cell_type": "markdown",
      "source": [
        "# Importing libraries"
      ],
      "metadata": {
        "id": "UgtL_CGAp8KI"
      },
      "id": "UgtL_CGAp8KI"
    },
    {
      "cell_type": "code",
      "source": [
        "!pip install hazm"
      ],
      "metadata": {
        "id": "IjlyGCoQCsjn"
      },
      "id": "IjlyGCoQCsjn",
      "execution_count": null,
      "outputs": []
    },
    {
      "cell_type": "code",
      "execution_count": 2,
      "id": "a2e7ffa2",
      "metadata": {
        "id": "a2e7ffa2"
      },
      "outputs": [],
      "source": [
        "import pandas as pd\n",
        "import numpy as np\n",
        "import math\n",
        "import matplotlib.pyplot as plt\n",
        "from functools import reduce\n",
        "from hazm import *\n",
        "import copy"
      ]
    },
    {
      "cell_type": "code",
      "execution_count": null,
      "id": "f00993d4",
      "metadata": {
        "id": "f00993d4"
      },
      "outputs": [],
      "source": [
        "def import_data(path):\n",
        "    file_path = path\n",
        "    data = pd.read_json(path)\n",
        "    return data.T"
      ]
    },
    {
      "cell_type": "code",
      "source": [
        "# Import CSV file\n",
        "from google.colab import files\n",
        "uploaded = files.upload()"
      ],
      "metadata": {
        "id": "-9g8Alk_CioO"
      },
      "id": "-9g8Alk_CioO",
      "execution_count": null,
      "outputs": []
    },
    {
      "cell_type": "markdown",
      "source": [
        "# Preprocessing\n",
        "\n",
        "\n",
        "\n",
        "*  Normalization\n",
        "\n",
        "* Extracting Tokens\n",
        "\n",
        "* Stemming\n",
        "* Removing Stopwords\n",
        "\n"
      ],
      "metadata": {
        "id": "HGuPiJs2rgQ_"
      },
      "id": "HGuPiJs2rgQ_"
    },
    {
      "cell_type": "code",
      "execution_count": null,
      "id": "b91e5f8b",
      "metadata": {
        "id": "b91e5f8b"
      },
      "outputs": [],
      "source": [
        "data = import_data('./IR_data_news_12k.json')"
      ]
    },
    {
      "cell_type": "code",
      "execution_count": null,
      "id": "b81ef051",
      "metadata": {
        "id": "b81ef051"
      },
      "outputs": [],
      "source": [
        "content = data['content']"
      ]
    },
    {
      "cell_type": "code",
      "execution_count": null,
      "id": "969c7e44",
      "metadata": {
        "id": "969c7e44"
      },
      "outputs": [],
      "source": [
        "def normalize(text):\n",
        "    normalizer = Normalizer()\n",
        "    return normalizer.normalize(text)"
      ]
    },
    {
      "cell_type": "code",
      "execution_count": null,
      "id": "83851f1f",
      "metadata": {
        "id": "83851f1f"
      },
      "outputs": [],
      "source": [
        "def tokenizer(text):\n",
        "    return word_tokenize(text)"
      ]
    },
    {
      "cell_type": "code",
      "execution_count": null,
      "id": "a52cff54",
      "metadata": {
        "id": "a52cff54"
      },
      "outputs": [],
      "source": [
        "def stem(token):\n",
        "    stemmer = Stemmer()\n",
        "    return stemmer.stem(token)"
      ]
    },
    {
      "cell_type": "code",
      "execution_count": null,
      "id": "bb72ae43",
      "metadata": {
        "id": "bb72ae43"
      },
      "outputs": [],
      "source": [
        "def stem_tokens(tokens):\n",
        "    return [stem(token) for token in tokens]"
      ]
    },
    {
      "cell_type": "code",
      "execution_count": null,
      "id": "63f5bc74",
      "metadata": {
        "id": "63f5bc74"
      },
      "outputs": [],
      "source": [
        "def filter_stop_words(tokens):\n",
        "    STOP_WORDS = stopwords_list()\n",
        "    return [token for token in tokens if token not in STOP_WORDS]"
      ]
    },
    {
      "cell_type": "code",
      "execution_count": null,
      "id": "b429437a",
      "metadata": {
        "id": "b429437a"
      },
      "outputs": [],
      "source": [
        "def preprocess(text, debug = False):\n",
        "    normalized_text = normalize(text)\n",
        "    tokens = tokenizer(normalized_text)\n",
        "    stemmed_tokens = stem_tokens(tokens)\n",
        "    output = filter_stop_words(stemmed_tokens)\n",
        "    \n",
        "    if(debug):\n",
        "        print(text)\n",
        "        print(normalized_text)\n",
        "        print(tokens)\n",
        "        print(stemmed_tokens)\n",
        "        print(output)\n",
        "\n",
        "    return output"
      ]
    },
    {
      "cell_type": "markdown",
      "source": [
        "#Positional index construction"
      ],
      "metadata": {
        "id": "mIep3rGPsC9w"
      },
      "id": "mIep3rGPsC9w"
    },
    {
      "cell_type": "code",
      "execution_count": null,
      "id": "9cb2e484",
      "metadata": {
        "id": "9cb2e484"
      },
      "outputs": [],
      "source": [
        "def preprocess_all(docs):\n",
        "    \"\"\"\n",
        "    {term: [count, {docId: Array of positions}]}\n",
        "    \"\"\"\n",
        "    positional_index = {}\n",
        "    \n",
        "    for docId, doc in enumerate(docs):\n",
        "        terms = preprocess(doc)\n",
        "        \n",
        "        for index, term in enumerate(terms):\n",
        "            \n",
        "            if term not in positional_index:\n",
        "                positional_index[term] = [1, {docId: [index]}]\n",
        "            else:\n",
        "                positional_index[term][0] = positional_index[term][0] + 1\n",
        "                \n",
        "                if docId in positional_index[term][1]:\n",
        "                    positional_index[term][1][docId].append(index)\n",
        "                else:\n",
        "                    positional_index[term][1][docId] = [index]\n",
        "                    \n",
        "    return positional_index"
      ]
    },
    {
      "cell_type": "code",
      "execution_count": null,
      "id": "86ffa4fd",
      "metadata": {
        "id": "86ffa4fd"
      },
      "outputs": [],
      "source": [
        "def get_term_count(term, docs, positional_index):\n",
        "    for docId, doc in enumerate(docs):\n",
        "        if positional_index[term]:\n",
        "            if positional_index[term][1][docId]:\n",
        "                return len(positional_index[term][1][docId])\n",
        "            else:\n",
        "                return 0\n",
        "        else:\n",
        "            return 0"
      ]
    },
    {
      "cell_type": "code",
      "execution_count": null,
      "id": "9d3cf54d",
      "metadata": {
        "id": "9d3cf54d"
      },
      "outputs": [],
      "source": [
        "def extract_tokens(query_tokens):\n",
        "    simple_tokens = []\n",
        "    not_tokens = []\n",
        "    phrase_tokens = []\n",
        "    i = 0\n",
        "    phrase_index = 0\n",
        "    \n",
        "    while i < len(query_tokens):\n",
        "        if query_tokens[i] == '!' :\n",
        "            not_tokens.append(query_tokens[i + 1])\n",
        "            i = i + 2\n",
        "            continue\n",
        "        elif query_tokens[i] == '«':\n",
        "            phrase_index = i + 1\n",
        "        elif query_tokens[i] == '»':\n",
        "            phrase = query_tokens[phrase_index:i]\n",
        "            \n",
        "            for token in ['«', *phrase]:\n",
        "                simple_tokens.remove(token)\n",
        "                \n",
        "            i = i + 1\n",
        "            phrase_tokens.append(phrase)\n",
        "            continue\n",
        "        simple_tokens.append(query_tokens[i])\n",
        "        i = i + 1\n",
        "    \n",
        "    return (simple_tokens, not_tokens, phrase_tokens)"
      ]
    },
    {
      "cell_type": "code",
      "execution_count": null,
      "id": "6b57c634",
      "metadata": {
        "id": "6b57c634"
      },
      "outputs": [],
      "source": [
        "positional_index = preprocess_all(content)"
      ]
    },
    {
      "cell_type": "markdown",
      "source": [
        "#Query processing"
      ],
      "metadata": {
        "id": "Auu8B_8zsK4g"
      },
      "id": "Auu8B_8zsK4g"
    },
    {
      "cell_type": "code",
      "execution_count": null,
      "id": "e158b245",
      "metadata": {
        "id": "e158b245"
      },
      "outputs": [],
      "source": [
        "def search(query, positional_index):\n",
        "    query_tokens = preprocess(query)\n",
        "    (simple_tokens, not_tokens, phrase_tokens) = extract_tokens(query_tokens)\n",
        "    docs = {}\n",
        "    for token in simple_tokens:\n",
        "        token_entry = positional_index.get(token)\n",
        "        if token_entry is None:\n",
        "            continue\n",
        "            \n",
        "        token_docs = list(token_entry[1])\n",
        "        for doc in token_docs:\n",
        "            if doc not in docs:\n",
        "                docs[doc] = 1\n",
        "            else:\n",
        "                docs[doc] = docs[doc] + 1\n",
        "\n",
        "    for token in not_tokens:\n",
        "        token_entry = positional_index.get(token)\n",
        "        if token_entry is None:\n",
        "            continue\n",
        "            \n",
        "        token_docs = list(token_entry[1])\n",
        "        for doc in token_docs:\n",
        "            if doc in docs:\n",
        "                del docs[doc]\n",
        "\n",
        "    for phrase in phrase_tokens:\n",
        "        incident = {}\n",
        "\n",
        "        for index, token in enumerate(phrase):\n",
        "            token_entry = positional_index.get(token)\n",
        "            \n",
        "            if token_entry is None:\n",
        "                break\n",
        "                \n",
        "            token_docs = token_entry[1]\n",
        "            \n",
        "            if index == 0:\n",
        "                incident = token_docs\n",
        "            else:\n",
        "                for doc in list(incident):\n",
        "                    if doc not in token_docs:\n",
        "                        del incident[doc]\n",
        "                        \n",
        "                # Positions of current token in incident docs\n",
        "                doc_positions = {key: token_docs[key] for key in token_docs if key in incident} \n",
        "            \n",
        "                for doc in list(incident):\n",
        "                    positions = incident[doc] # Positions of first token of phrase\n",
        "                    maintainedOrder = False\n",
        "                    \n",
        "                    for position in positions:\n",
        "                        if maintainedOrder:\n",
        "                            break\n",
        "\n",
        "                        maintainedOrder = (position + index) in doc_positions[doc]\n",
        "                    if not maintainedOrder:\n",
        "                        del incident[doc]\n",
        "                        \n",
        "        for doc in incident:\n",
        "            if doc not in docs :\n",
        "                docs[doc] = 1\n",
        "            else:\n",
        "                docs[doc] = docs[doc] + 1\n",
        "\n",
        "    docs = sorted(docs.items(), key=lambda x:x[1], reverse=True)\n",
        "    return [doc[0] for doc in docs]"
      ]
    },
    {
      "cell_type": "code",
      "execution_count": null,
      "id": "69d8970f",
      "metadata": {
        "id": "69d8970f"
      },
      "outputs": [],
      "source": [
        "def show_result(results, data):\n",
        "    return data.loc[results, ['url', 'title']]"
      ]
    },
    {
      "cell_type": "markdown",
      "source": [
        "#Search results\n",
        "\n",
        "\n",
        "*  Common Normal Queries\n",
        "*Boolean Queries (NOT)\n",
        "*Phrase Queries\n",
        "* Complex Combination of All Types of Queries\n",
        "* Rare Queries\n",
        "\n"
      ],
      "metadata": {
        "id": "V7VZ3oaAsSMu"
      },
      "id": "V7VZ3oaAsSMu"
    },
    {
      "cell_type": "code",
      "execution_count": null,
      "id": "16135323",
      "metadata": {
        "id": "16135323",
        "outputId": "1e6fb1c7-06c0-4e87-f99e-9106fe9fe4ba"
      },
      "outputs": [
        {
          "data": {
            "text/html": [
              "<div>\n",
              "<style scoped>\n",
              "    .dataframe tbody tr th:only-of-type {\n",
              "        vertical-align: middle;\n",
              "    }\n",
              "\n",
              "    .dataframe tbody tr th {\n",
              "        vertical-align: top;\n",
              "    }\n",
              "\n",
              "    .dataframe thead th {\n",
              "        text-align: right;\n",
              "    }\n",
              "</style>\n",
              "<table border=\"1\" class=\"dataframe\">\n",
              "  <thead>\n",
              "    <tr style=\"text-align: right;\">\n",
              "      <th></th>\n",
              "      <th>url</th>\n",
              "      <th>title</th>\n",
              "    </tr>\n",
              "  </thead>\n",
              "  <tbody>\n",
              "    <tr>\n",
              "      <th>6845</th>\n",
              "      <td>https://www.farsnews.ir/news/14001223001080/اح...</td>\n",
              "      <td>احتمال مبادله نازنین زاغری در ازای 530میلیون دلار</td>\n",
              "    </tr>\n",
              "    <tr>\n",
              "      <th>6926</th>\n",
              "      <td>https://www.farsnews.ir/news/14001222000749/مت...</td>\n",
              "      <td>متکی: آمریکا با ابزار ناتو به دنبال تجزیه روسی...</td>\n",
              "    </tr>\n",
              "    <tr>\n",
              "      <th>6929</th>\n",
              "      <td>https://www.farsnews.ir/news/14001222000450/تو...</td>\n",
              "      <td>توضیحات یک منبع آگاه درباره وقفه مذاکرات وین</td>\n",
              "    </tr>\n",
              "    <tr>\n",
              "      <th>6942</th>\n",
              "      <td>https://www.farsnews.ir/news/14001222000366/بی...</td>\n",
              "      <td>بیانیه نمایندگان مجلس/ رفع کاغذی تحریم‌ها تأمی...</td>\n",
              "    </tr>\n",
              "    <tr>\n",
              "      <th>6945</th>\n",
              "      <td>https://www.farsnews.ir/news/14001222000327/ای...</td>\n",
              "      <td>ایستگاه آخر کدخداپرستان کجاست؟</td>\n",
              "    </tr>\n",
              "    <tr>\n",
              "      <th>...</th>\n",
              "      <td>...</td>\n",
              "      <td>...</td>\n",
              "    </tr>\n",
              "    <tr>\n",
              "      <th>12167</th>\n",
              "      <td>https://www.farsnews.ir/news/14000725000333/نا...</td>\n",
              "      <td>نامه 160 نماینده به رئیس‌جمهور/ دولت برای استف...</td>\n",
              "    </tr>\n",
              "    <tr>\n",
              "      <th>12172</th>\n",
              "      <td>https://www.farsnews.ir/news/14000725000277/بر...</td>\n",
              "      <td>برنامه‌های نهاد رهبری در دانشگاه‌ها برای حمایت...</td>\n",
              "    </tr>\n",
              "    <tr>\n",
              "      <th>12177</th>\n",
              "      <td>https://www.farsnews.ir/news/14000725000258/مو...</td>\n",
              "      <td>موافقت مجلس با لایحه «پروتکل حفاظت از تنوع زیس...</td>\n",
              "    </tr>\n",
              "    <tr>\n",
              "      <th>12186</th>\n",
              "      <td>https://www.farsnews.ir/news/14000725000158/در...</td>\n",
              "      <td>در هر هفته‌ 17 میلیون دز واکسن به کشور وارد می...</td>\n",
              "    </tr>\n",
              "    <tr>\n",
              "      <th>12200</th>\n",
              "      <td>https://www.farsnews.ir/news/14000724000651/مح...</td>\n",
              "      <td>محسن اسلامی مدیرکل دفتر امور سیاسی وزارت کشور شد</td>\n",
              "    </tr>\n",
              "  </tbody>\n",
              "</table>\n",
              "<p>3980 rows × 2 columns</p>\n",
              "</div>"
            ],
            "text/plain": [
              "                                                     url  \\\n",
              "6845   https://www.farsnews.ir/news/14001223001080/اح...   \n",
              "6926   https://www.farsnews.ir/news/14001222000749/مت...   \n",
              "6929   https://www.farsnews.ir/news/14001222000450/تو...   \n",
              "6942   https://www.farsnews.ir/news/14001222000366/بی...   \n",
              "6945   https://www.farsnews.ir/news/14001222000327/ای...   \n",
              "...                                                  ...   \n",
              "12167  https://www.farsnews.ir/news/14000725000333/نا...   \n",
              "12172  https://www.farsnews.ir/news/14000725000277/بر...   \n",
              "12177  https://www.farsnews.ir/news/14000725000258/مو...   \n",
              "12186  https://www.farsnews.ir/news/14000725000158/در...   \n",
              "12200  https://www.farsnews.ir/news/14000724000651/مح...   \n",
              "\n",
              "                                                   title  \n",
              "6845   احتمال مبادله نازنین زاغری در ازای 530میلیون دلار  \n",
              "6926   متکی: آمریکا با ابزار ناتو به دنبال تجزیه روسی...  \n",
              "6929        توضیحات یک منبع آگاه درباره وقفه مذاکرات وین  \n",
              "6942   بیانیه نمایندگان مجلس/ رفع کاغذی تحریم‌ها تأمی...  \n",
              "6945                      ایستگاه آخر کدخداپرستان کجاست؟  \n",
              "...                                                  ...  \n",
              "12167  نامه 160 نماینده به رئیس‌جمهور/ دولت برای استف...  \n",
              "12172  برنامه‌های نهاد رهبری در دانشگاه‌ها برای حمایت...  \n",
              "12177  موافقت مجلس با لایحه «پروتکل حفاظت از تنوع زیس...  \n",
              "12186  در هر هفته‌ 17 میلیون دز واکسن به کشور وارد می...  \n",
              "12200   محسن اسلامی مدیرکل دفتر امور سیاسی وزارت کشور شد  \n",
              "\n",
              "[3980 rows x 2 columns]"
            ]
          },
          "execution_count": 29,
          "metadata": {},
          "output_type": "execute_result"
        }
      ],
      "source": [
        "# Common Normal Query\n",
        "show_result(search(\"تحریم‌های آمریکا علیه ایران\", positional_index), data)"
      ]
    },
    {
      "cell_type": "code",
      "execution_count": null,
      "id": "241e7fd9",
      "metadata": {
        "id": "241e7fd9",
        "outputId": "15057f73-fe8c-49ab-c750-79668d44cfa1"
      },
      "outputs": [
        {
          "data": {
            "text/html": [
              "<div>\n",
              "<style scoped>\n",
              "    .dataframe tbody tr th:only-of-type {\n",
              "        vertical-align: middle;\n",
              "    }\n",
              "\n",
              "    .dataframe tbody tr th {\n",
              "        vertical-align: top;\n",
              "    }\n",
              "\n",
              "    .dataframe thead th {\n",
              "        text-align: right;\n",
              "    }\n",
              "</style>\n",
              "<table border=\"1\" class=\"dataframe\">\n",
              "  <thead>\n",
              "    <tr style=\"text-align: right;\">\n",
              "      <th></th>\n",
              "      <th>url</th>\n",
              "      <th>title</th>\n",
              "    </tr>\n",
              "  </thead>\n",
              "  <tbody>\n",
              "    <tr>\n",
              "      <th>6938</th>\n",
              "      <td>https://www.farsnews.ir/news/14001222000379/مح...</td>\n",
              "      <td>محو رژیم صهیونیستی از آرمان‌های نظام اسلامی حذ...</td>\n",
              "    </tr>\n",
              "    <tr>\n",
              "      <th>7252</th>\n",
              "      <td>https://www.farsnews.ir/news/14001203000366/تج...</td>\n",
              "      <td>تجربه نشان داده به عهد آمریکا در مذاکرات نمی‌ش...</td>\n",
              "    </tr>\n",
              "    <tr>\n",
              "      <th>7268</th>\n",
              "      <td>https://www.farsnews.ir/news/14001205000615/حت...</td>\n",
              "      <td>حتی اگرتوافق هم بشود نباید معیشت را به وعده آم...</td>\n",
              "    </tr>\n",
              "    <tr>\n",
              "      <th>7328</th>\n",
              "      <td>https://www.farsnews.ir/news/14001130000933/کم...</td>\n",
              "      <td>کم‌توجهی به بیانات رهبر انقلاب در برجام تبعات ...</td>\n",
              "    </tr>\n",
              "    <tr>\n",
              "      <th>7491</th>\n",
              "      <td>https://www.farsnews.ir/news/14001203000383/مس...</td>\n",
              "      <td>مسائل اقتصادی کشور را معطل نتیجه مذاکرات نمی‌‌...</td>\n",
              "    </tr>\n",
              "    <tr>\n",
              "      <th>...</th>\n",
              "      <td>...</td>\n",
              "      <td>...</td>\n",
              "    </tr>\n",
              "    <tr>\n",
              "      <th>11793</th>\n",
              "      <td>https://www.farsnews.ir/news/14000805000869/مد...</td>\n",
              "      <td>مدیریت مشکل بنزین امسال نتیجه تفکر انقلابی و ب...</td>\n",
              "    </tr>\n",
              "    <tr>\n",
              "      <th>11909</th>\n",
              "      <td>https://www.farsnews.ir/news/14000802000225/آی...</td>\n",
              "      <td>آیت‌الله رئیسی: آمریکا و اروپا دچار بحران در ت...</td>\n",
              "    </tr>\n",
              "    <tr>\n",
              "      <th>11957</th>\n",
              "      <td>https://www.farsnews.ir/news/14000730000189/خط...</td>\n",
              "      <td>خطیب جمعه تهران: متجاوزان به اموال عمومی نباید...</td>\n",
              "    </tr>\n",
              "    <tr>\n",
              "      <th>12125</th>\n",
              "      <td>https://www.farsnews.ir/news/14000726000302/آت...</td>\n",
              "      <td>آتش ترور دامان مسببان آن را خواهد گرفت و موجب ...</td>\n",
              "    </tr>\n",
              "    <tr>\n",
              "      <th>12184</th>\n",
              "      <td>https://www.farsnews.ir/news/14000724000698/رد...</td>\n",
              "      <td>ردپای سرویس‌های اطلاعاتی بیگانه در انفجارهای ق...</td>\n",
              "    </tr>\n",
              "  </tbody>\n",
              "</table>\n",
              "<p>300 rows × 2 columns</p>\n",
              "</div>"
            ],
            "text/plain": [
              "                                                     url  \\\n",
              "6938   https://www.farsnews.ir/news/14001222000379/مح...   \n",
              "7252   https://www.farsnews.ir/news/14001203000366/تج...   \n",
              "7268   https://www.farsnews.ir/news/14001205000615/حت...   \n",
              "7328   https://www.farsnews.ir/news/14001130000933/کم...   \n",
              "7491   https://www.farsnews.ir/news/14001203000383/مس...   \n",
              "...                                                  ...   \n",
              "11793  https://www.farsnews.ir/news/14000805000869/مد...   \n",
              "11909  https://www.farsnews.ir/news/14000802000225/آی...   \n",
              "11957  https://www.farsnews.ir/news/14000730000189/خط...   \n",
              "12125  https://www.farsnews.ir/news/14000726000302/آت...   \n",
              "12184  https://www.farsnews.ir/news/14000724000698/رد...   \n",
              "\n",
              "                                                   title  \n",
              "6938   محو رژیم صهیونیستی از آرمان‌های نظام اسلامی حذ...  \n",
              "7252   تجربه نشان داده به عهد آمریکا در مذاکرات نمی‌ش...  \n",
              "7268   حتی اگرتوافق هم بشود نباید معیشت را به وعده آم...  \n",
              "7328   کم‌توجهی به بیانات رهبر انقلاب در برجام تبعات ...  \n",
              "7491   مسائل اقتصادی کشور را معطل نتیجه مذاکرات نمی‌‌...  \n",
              "...                                                  ...  \n",
              "11793  مدیریت مشکل بنزین امسال نتیجه تفکر انقلابی و ب...  \n",
              "11909  آیت‌الله رئیسی: آمریکا و اروپا دچار بحران در ت...  \n",
              "11957  خطیب جمعه تهران: متجاوزان به اموال عمومی نباید...  \n",
              "12125  آتش ترور دامان مسببان آن را خواهد گرفت و موجب ...  \n",
              "12184  ردپای سرویس‌های اطلاعاتی بیگانه در انفجارهای ق...  \n",
              "\n",
              "[300 rows x 2 columns]"
            ]
          },
          "execution_count": 30,
          "metadata": {},
          "output_type": "execute_result"
        }
      ],
      "source": [
        "# Boolean Query (NOT)\n",
        "show_result(search(\"تحریم‌های آمریکا ! ایران\", positional_index), data)"
      ]
    },
    {
      "cell_type": "code",
      "execution_count": null,
      "id": "8b396ee3",
      "metadata": {
        "id": "8b396ee3",
        "outputId": "eed4b32a-85b3-44f1-99ad-50a2cefe8cef"
      },
      "outputs": [
        {
          "data": {
            "text/html": [
              "<div>\n",
              "<style scoped>\n",
              "    .dataframe tbody tr th:only-of-type {\n",
              "        vertical-align: middle;\n",
              "    }\n",
              "\n",
              "    .dataframe tbody tr th {\n",
              "        vertical-align: top;\n",
              "    }\n",
              "\n",
              "    .dataframe thead th {\n",
              "        text-align: right;\n",
              "    }\n",
              "</style>\n",
              "<table border=\"1\" class=\"dataframe\">\n",
              "  <thead>\n",
              "    <tr style=\"text-align: right;\">\n",
              "      <th></th>\n",
              "      <th>url</th>\n",
              "      <th>title</th>\n",
              "    </tr>\n",
              "  </thead>\n",
              "  <tbody>\n",
              "    <tr>\n",
              "      <th>6929</th>\n",
              "      <td>https://www.farsnews.ir/news/14001222000450/تو...</td>\n",
              "      <td>توضیحات یک منبع آگاه درباره وقفه مذاکرات وین</td>\n",
              "    </tr>\n",
              "  </tbody>\n",
              "</table>\n",
              "</div>"
            ],
            "text/plain": [
              "                                                    url  \\\n",
              "6929  https://www.farsnews.ir/news/14001222000450/تو...   \n",
              "\n",
              "                                             title  \n",
              "6929  توضیحات یک منبع آگاه درباره وقفه مذاکرات وین  "
            ]
          },
          "execution_count": 31,
          "metadata": {},
          "output_type": "execute_result"
        }
      ],
      "source": [
        "# Phrase Query\n",
        "show_result(search('\"کنگره ضدتروریست\"', positional_index), data)"
      ]
    },
    {
      "cell_type": "code",
      "execution_count": null,
      "id": "c6c5ee9b",
      "metadata": {
        "id": "c6c5ee9b",
        "outputId": "73a7c664-bbdd-41cd-b45d-c99016763770"
      },
      "outputs": [
        {
          "data": {
            "text/html": [
              "<div>\n",
              "<style scoped>\n",
              "    .dataframe tbody tr th:only-of-type {\n",
              "        vertical-align: middle;\n",
              "    }\n",
              "\n",
              "    .dataframe tbody tr th {\n",
              "        vertical-align: top;\n",
              "    }\n",
              "\n",
              "    .dataframe thead th {\n",
              "        text-align: right;\n",
              "    }\n",
              "</style>\n",
              "<table border=\"1\" class=\"dataframe\">\n",
              "  <thead>\n",
              "    <tr style=\"text-align: right;\">\n",
              "      <th></th>\n",
              "      <th>url</th>\n",
              "      <th>title</th>\n",
              "    </tr>\n",
              "  </thead>\n",
              "  <tbody>\n",
              "    <tr>\n",
              "      <th>85</th>\n",
              "      <td>https://www.farsnews.ir/news/14001223000292/با...</td>\n",
              "      <td>با پردرآمدترین ورزشکاران جهان آشنا شوید؛ از MM...</td>\n",
              "    </tr>\n",
              "    <tr>\n",
              "      <th>226</th>\n",
              "      <td>https://www.farsnews.ir/news/14001221000109/بم...</td>\n",
              "      <td>بمب خبری بازگشت مسی به بارسلونا خنثی شد/پای جا...</td>\n",
              "    </tr>\n",
              "    <tr>\n",
              "      <th>300</th>\n",
              "      <td>https://www.farsnews.ir/news/14001220000373/من...</td>\n",
              "      <td>منچستریونایتد به دنبال بهترین بازیکن دنیا / زو...</td>\n",
              "    </tr>\n",
              "    <tr>\n",
              "      <th>424</th>\n",
              "      <td>https://www.farsnews.ir/news/14001218000297/حض...</td>\n",
              "      <td>حضور بازیکن اوکراینی در لیگ ایران پس از جنگ با...</td>\n",
              "    </tr>\n",
              "    <tr>\n",
              "      <th>451</th>\n",
              "      <td>https://www.farsnews.ir/news/14001217000994/را...</td>\n",
              "      <td>راهیابی بانوی سنگنورد کشورمان به مسابقات جهانی...</td>\n",
              "    </tr>\n",
              "    <tr>\n",
              "      <th>...</th>\n",
              "      <td>...</td>\n",
              "      <td>...</td>\n",
              "    </tr>\n",
              "    <tr>\n",
              "      <th>11909</th>\n",
              "      <td>https://www.farsnews.ir/news/14000802000225/آی...</td>\n",
              "      <td>آیت‌الله رئیسی: آمریکا و اروپا دچار بحران در ت...</td>\n",
              "    </tr>\n",
              "    <tr>\n",
              "      <th>11957</th>\n",
              "      <td>https://www.farsnews.ir/news/14000730000189/خط...</td>\n",
              "      <td>خطیب جمعه تهران: متجاوزان به اموال عمومی نباید...</td>\n",
              "    </tr>\n",
              "    <tr>\n",
              "      <th>12125</th>\n",
              "      <td>https://www.farsnews.ir/news/14000726000302/آت...</td>\n",
              "      <td>آتش ترور دامان مسببان آن را خواهد گرفت و موجب ...</td>\n",
              "    </tr>\n",
              "    <tr>\n",
              "      <th>12154</th>\n",
              "      <td>https://www.farsnews.ir/news/14000725000758/جم...</td>\n",
              "      <td>جمع‌بندی گزارش کمیسیون اصل 90 درباره قطعی برق ...</td>\n",
              "    </tr>\n",
              "    <tr>\n",
              "      <th>12184</th>\n",
              "      <td>https://www.farsnews.ir/news/14000724000698/رد...</td>\n",
              "      <td>ردپای سرویس‌های اطلاعاتی بیگانه در انفجارهای ق...</td>\n",
              "    </tr>\n",
              "  </tbody>\n",
              "</table>\n",
              "<p>222 rows × 2 columns</p>\n",
              "</div>"
            ],
            "text/plain": [
              "                                                     url  \\\n",
              "85     https://www.farsnews.ir/news/14001223000292/با...   \n",
              "226    https://www.farsnews.ir/news/14001221000109/بم...   \n",
              "300    https://www.farsnews.ir/news/14001220000373/من...   \n",
              "424    https://www.farsnews.ir/news/14001218000297/حض...   \n",
              "451    https://www.farsnews.ir/news/14001217000994/را...   \n",
              "...                                                  ...   \n",
              "11909  https://www.farsnews.ir/news/14000802000225/آی...   \n",
              "11957  https://www.farsnews.ir/news/14000730000189/خط...   \n",
              "12125  https://www.farsnews.ir/news/14000726000302/آت...   \n",
              "12154  https://www.farsnews.ir/news/14000725000758/جم...   \n",
              "12184  https://www.farsnews.ir/news/14000724000698/رد...   \n",
              "\n",
              "                                                   title  \n",
              "85     با پردرآمدترین ورزشکاران جهان آشنا شوید؛ از MM...  \n",
              "226    بمب خبری بازگشت مسی به بارسلونا خنثی شد/پای جا...  \n",
              "300    منچستریونایتد به دنبال بهترین بازیکن دنیا / زو...  \n",
              "424    حضور بازیکن اوکراینی در لیگ ایران پس از جنگ با...  \n",
              "451    راهیابی بانوی سنگنورد کشورمان به مسابقات جهانی...  \n",
              "...                                                  ...  \n",
              "11909  آیت‌الله رئیسی: آمریکا و اروپا دچار بحران در ت...  \n",
              "11957  خطیب جمعه تهران: متجاوزان به اموال عمومی نباید...  \n",
              "12125  آتش ترور دامان مسببان آن را خواهد گرفت و موجب ...  \n",
              "12154  جمع‌بندی گزارش کمیسیون اصل 90 درباره قطعی برق ...  \n",
              "12184  ردپای سرویس‌های اطلاعاتی بیگانه در انفجارهای ق...  \n",
              "\n",
              "[222 rows x 2 columns]"
            ]
          },
          "execution_count": 32,
          "metadata": {},
          "output_type": "execute_result"
        }
      ],
      "source": [
        "# Complex Combination of All Types of Query\n",
        "show_result(search('\"تحریم هسته‌ای\" آمریکا ! ایران', positional_index), data)"
      ]
    },
    {
      "cell_type": "code",
      "execution_count": null,
      "id": "65b4ed7a",
      "metadata": {
        "id": "65b4ed7a",
        "outputId": "e1ddb157-44d6-424b-89ab-2eaa6ff49ff0"
      },
      "outputs": [
        {
          "data": {
            "text/html": [
              "<div>\n",
              "<style scoped>\n",
              "    .dataframe tbody tr th:only-of-type {\n",
              "        vertical-align: middle;\n",
              "    }\n",
              "\n",
              "    .dataframe tbody tr th {\n",
              "        vertical-align: top;\n",
              "    }\n",
              "\n",
              "    .dataframe thead th {\n",
              "        text-align: right;\n",
              "    }\n",
              "</style>\n",
              "<table border=\"1\" class=\"dataframe\">\n",
              "  <thead>\n",
              "    <tr style=\"text-align: right;\">\n",
              "      <th></th>\n",
              "      <th>url</th>\n",
              "      <th>title</th>\n",
              "    </tr>\n",
              "  </thead>\n",
              "  <tbody>\n",
              "  </tbody>\n",
              "</table>\n",
              "</div>"
            ],
            "text/plain": [
              "Empty DataFrame\n",
              "Columns: [url, title]\n",
              "Index: []"
            ]
          },
          "execution_count": 33,
          "metadata": {},
          "output_type": "execute_result"
        }
      ],
      "source": [
        "# Rare Query\n",
        "show_result(search('اورشلیم ! صهیونیست', positional_index), data)"
      ]
    },
    {
      "cell_type": "markdown",
      "source": [
        "# Testing Zipf's law\n",
        "Testing Zipf's law on the dataset **with and without filtering stop words**"
      ],
      "metadata": {
        "id": "p8rvWuSi0eJf"
      },
      "id": "p8rvWuSi0eJf"
    },
    {
      "cell_type": "code",
      "execution_count": null,
      "id": "bdd343dc",
      "metadata": {
        "id": "bdd343dc"
      },
      "outputs": [],
      "source": [
        "def zipf_law(docs, stops = False):\n",
        "    total_tokens = {}\n",
        "    for doc in docs:\n",
        "        tokens = tokenizer(doc)\n",
        "        \n",
        "        if stops:\n",
        "            tokens = filter_stop_words(tokens)\n",
        "            \n",
        "        for token in tokens:\n",
        "            count = total_tokens.get(token)\n",
        "            if count is None:\n",
        "                total_tokens[token] = 1\n",
        "            else:\n",
        "                total_tokens[token] = count + 1\n",
        "        \n",
        "    sorted_tokens = dict(sorted(total_tokens.items(), key=lambda x:x[1], reverse=True))\n",
        "    \n",
        "    frequency_log = []\n",
        "    rank_log = []\n",
        "    rank = 1\n",
        "    \n",
        "    for token, frequency in sorted_tokens.items():\n",
        "        frequency_log.append(math.log(frequency))\n",
        "        rank_log.append(math.log(rank))\n",
        "        rank = rank + 1\n",
        "\n",
        "    plt.plot(rank_log, frequency_log)\n",
        "    plt.ylabel(\"log cf\")\n",
        "    plt.xlabel(\"log rank\")\n",
        "    plt.show()"
      ]
    },
    {
      "cell_type": "code",
      "execution_count": null,
      "id": "ae514e81",
      "metadata": {
        "id": "ae514e81",
        "outputId": "2d3554fd-164b-4cee-ffa7-5b77e6a8855e"
      },
      "outputs": [
        {
          "data": {
            "image/png": "[encoded data removed]",
            "text/plain": [
              "<Figure size 432x288 with 1 Axes>"
            ]
          },
          "metadata": {
            "needs_background": "light"
          },
          "output_type": "display_data"
        }
      ],
      "source": [
        "zipf_law(content)"
      ]
    },
    {
      "cell_type": "code",
      "execution_count": null,
      "id": "3b38920b",
      "metadata": {
        "id": "3b38920b",
        "outputId": "e6ef73b7-66aa-48a5-cc09-d0da85ebd692"
      },
      "outputs": [
        {
          "data": {
            "image/png": "[encoded data removed]",
            "text/plain": [
              "<Figure size 432x288 with 1 Axes>"
            ]
          },
          "metadata": {
            "needs_background": "light"
          },
          "output_type": "display_data"
        }
      ],
      "source": [
        "zipf_law(content, True)"
      ]
    },
    {
      "cell_type": "markdown",
      "source": [
        "# Testing Heap's law\n",
        "Testing Heap's law on the dataset **with and without stemming**"
      ],
      "metadata": {
        "id": "qYwSxObv0zXT"
      },
      "id": "qYwSxObv0zXT"
    },
    {
      "cell_type": "code",
      "execution_count": null,
      "id": "5ede4b8f",
      "metadata": {
        "id": "5ede4b8f"
      },
      "outputs": [],
      "source": [
        "def heaps_law(docs, stemming = False):\n",
        "    steps = [500, 1000, 1500, 2000]\n",
        "    total = []\n",
        "    sets = []\n",
        "    \n",
        "    for step in steps:\n",
        "        total_tokens = []\n",
        "        total_tokens_set = set()\n",
        "\n",
        "        for doc in docs[0: step]:\n",
        "            tokens = tokenizer(doc)\n",
        "\n",
        "            if(stemming):\n",
        "                tokens = stem_tokens(tokens)\n",
        "\n",
        "            for token in tokens:\n",
        "                total_tokens.append(token)\n",
        "                total_tokens_set.add(token)\n",
        "\n",
        "        total.append(len(total_tokens))\n",
        "        sets.append(len(total_tokens_set))\n",
        "    \n",
        "    plt.plot(total, sets)\n",
        "    plt.xlabel(\"Tokens\")\n",
        "    plt.ylabel(\"Unique Terms\")\n",
        "    plt.show()"
      ]
    },
    {
      "cell_type": "code",
      "execution_count": null,
      "id": "7c470015",
      "metadata": {
        "id": "7c470015",
        "outputId": "67dec30c-db3d-4cf2-d9a4-38f770ff452d"
      },
      "outputs": [
        {
          "data": {
            "image/png": "[encoded data removed]",
            "text/plain": [
              "<Figure size 432x288 with 1 Axes>"
            ]
          },
          "metadata": {
            "needs_background": "light"
          },
          "output_type": "display_data"
        }
      ],
      "source": [
        "heaps_law(content)"
      ]
    },
    {
      "cell_type": "code",
      "execution_count": null,
      "id": "dd36b887",
      "metadata": {
        "id": "dd36b887",
        "outputId": "4c9e23fd-e41a-4bdb-a5f9-3479cbd9e103"
      },
      "outputs": [
        {
          "data": {
            "image/png": "[encoded data removed]",
            "text/plain": [
              "<Figure size 432x288 with 1 Axes>"
            ]
          },
          "metadata": {
            "needs_background": "light"
          },
          "output_type": "display_data"
        }
      ],
      "source": [
        "heaps_law(content, True)"
      ]
    },
    {
      "cell_type": "markdown",
      "source": [
        "# Tf-idf indexing"
      ],
      "metadata": {
        "id": "Dy2kyCyO1WkZ"
      },
      "id": "Dy2kyCyO1WkZ"
    },
    {
      "cell_type": "code",
      "execution_count": null,
      "id": "b57a258d",
      "metadata": {
        "id": "b57a258d"
      },
      "outputs": [],
      "source": [
        "def idf_index(docs, positional_index):\n",
        "    \"\"\"\n",
        "    {term: [count, {docId: Array of positions}, idf]}\n",
        "    \"\"\"\n",
        "    output = copy.deepcopy(positional_index)\n",
        "    \n",
        "    for token in output:\n",
        "        df = len(output[token][1])\n",
        "        idf = math.log(len(docs) / df)\n",
        "        output[token].append(idf)\n",
        "        \n",
        "    return output"
      ]
    },
    {
      "cell_type": "code",
      "execution_count": null,
      "id": "c5f5b473",
      "metadata": {
        "id": "c5f5b473"
      },
      "outputs": [],
      "source": [
        "idf = idf_index(content, positional_index)"
      ]
    },
    {
      "cell_type": "code",
      "execution_count": null,
      "id": "b12c958c",
      "metadata": {
        "id": "b12c958c"
      },
      "outputs": [],
      "source": [
        "def doc_term_frequency(doc):\n",
        "    \"\"\"\n",
        "    {term: frequency}\n",
        "    \"\"\"\n",
        "    output = {}\n",
        "    tokens = preprocess(doc)\n",
        "    \n",
        "    for index, term in enumerate(tokens):\n",
        "        if term not in output:\n",
        "            output[term] = 1\n",
        "        else:\n",
        "            output[term] = output[term] + 1\n",
        "            \n",
        "    return output"
      ]
    },
    {
      "cell_type": "code",
      "execution_count": null,
      "id": "0696f93d",
      "metadata": {
        "id": "0696f93d"
      },
      "outputs": [],
      "source": [
        "def docs_frequency(docs):\n",
        "    \"\"\"\n",
        "    {docId: {term: frequency}}\n",
        "    \"\"\"\n",
        "    return [doc_term_frequency(doc) for doc in docs]"
      ]
    },
    {
      "cell_type": "code",
      "execution_count": null,
      "id": "fa124a1e",
      "metadata": {
        "id": "fa124a1e"
      },
      "outputs": [],
      "source": [
        "docs_term_frequency = docs_frequency(content)"
      ]
    },
    {
      "cell_type": "code",
      "execution_count": null,
      "id": "2452e3df",
      "metadata": {
        "id": "2452e3df"
      },
      "outputs": [],
      "source": [
        "def term_frequency(term, doc_term_frequency):\n",
        "    if term not in doc_term_frequency:\n",
        "        return 0\n",
        "    return 1 + math.log(doc_term_frequency[term])"
      ]
    },
    {
      "cell_type": "markdown",
      "source": [
        "# Vectorizing tf-idf index"
      ],
      "metadata": {
        "id": "z6DIm_EG38kQ"
      },
      "id": "z6DIm_EG38kQ"
    },
    {
      "cell_type": "code",
      "execution_count": null,
      "id": "ee94c571",
      "metadata": {
        "id": "ee94c571"
      },
      "outputs": [],
      "source": [
        "def create_vector(positional_index, doc_token):\n",
        "    vector = []\n",
        "    for token in positional_index:\n",
        "        tf = term_frequency(token, doc_token)\n",
        "        idf = positional_index[token][2]\n",
        "        tf_idf = tf * idf\n",
        "        vector.append(tf_idf)\n",
        "    return vector"
      ]
    },
    {
      "cell_type": "markdown",
      "source": [
        "# Similarity search based on cosine similarity"
      ],
      "metadata": {
        "id": "WjusBMTY4KbX"
      },
      "id": "WjusBMTY4KbX"
    },
    {
      "cell_type": "code",
      "execution_count": null,
      "id": "49a95604",
      "metadata": {
        "id": "49a95604"
      },
      "outputs": [],
      "source": [
        "def calculate_similarity(vector1, vector2):\n",
        "    dot_product = np.dot(np.array(vector1), np.array(vector2))\n",
        "    length_product = np.linalg.norm(np.array(vector1)) * np.linalg.norm(np.array(vector2))\n",
        "\n",
        "    return 0 if length_product == 0 else dot_product / length_product"
      ]
    },
    {
      "cell_type": "code",
      "execution_count": null,
      "id": "e789f7a5",
      "metadata": {
        "id": "e789f7a5"
      },
      "outputs": [],
      "source": [
        "def similarity_search(champion_index, docs_frequency, K, query):\n",
        "    query_tokens = doc_term_frequency(query)\n",
        "    similarity = {}\n",
        "    \n",
        "    for docId in range(len(docs_frequency)):\n",
        "        doc_vector = create_vector(champion_index, docs_frequency[docId])\n",
        "        query_vector = create_vector(champion_index, query_tokens)\n",
        "        similarity[docId] = calculate_similarity(query_vector, doc_vector)\n",
        "        \n",
        "    sorted_similarity = sorted(similarity.items(), key=lambda x: x[1], reverse=True)\n",
        "    return [doc[0] for doc in sorted_similarity[0: K]]"
      ]
    },
    {
      "cell_type": "markdown",
      "source": [
        "## Adding champion list\n",
        "\n",
        "Using champion list to speed up cosine computation"
      ],
      "metadata": {
        "id": "47sqpp5O4VAg"
      },
      "id": "47sqpp5O4VAg"
    },
    {
      "cell_type": "code",
      "execution_count": null,
      "id": "86c5856d",
      "metadata": {
        "id": "86c5856d"
      },
      "outputs": [],
      "source": [
        "def champion_index(idf_index, docs_frequency, K):\n",
        "    \"\"\"\n",
        "    {term: [count, {docId: Array of positions}, idf, Array of champions]}\n",
        "    \"\"\"\n",
        "    output = copy.deepcopy(idf_index)\n",
        "    \n",
        "    for i, token in enumerate(output):\n",
        "        token_champions = []\n",
        "        tf_dict = {}\n",
        "        \n",
        "        for docId, doc_term_frequency in enumerate(docs_frequency):\n",
        "            tf = term_frequency(token, doc_term_frequency)\n",
        "            if tf > 0:\n",
        "                tf_dict[docId] = tf\n",
        "            \n",
        "        sorted_tf_dict = sorted(tf_dict.items(), key=lambda x: x[1], reverse=True)\n",
        "        \n",
        "        for sorted_item in sorted_tf_dict[0: K]:\n",
        "            token_champions.append(sorted_item[0])\n",
        "        output[token].append(token_champions)\n",
        "        print(i / len(output))\n",
        "        \n",
        "    return output"
      ]
    },
    {
      "cell_type": "code",
      "execution_count": null,
      "id": "3d1463f4",
      "metadata": {
        "id": "3d1463f4"
      },
      "outputs": [],
      "source": [
        "def similarity_champion_search(champion_index, docs_frequency, K, query):\n",
        "    query_tokens = doc_term_frequency(query)\n",
        "    champs = []\n",
        "    \n",
        "    for token in query_tokens:\n",
        "        if token in champion_index:\n",
        "            for doc in champion_index[token][3]:\n",
        "                champs.append(doc) \n",
        "                \n",
        "    champ_similarity = {}\n",
        "    \n",
        "    for docId in champs:\n",
        "        doc_vector = create_vector(champion_index, docs_frequency[docId])\n",
        "        query_vector = create_vector(champion_index, query_tokens)\n",
        "        champ_similarity[docId] = calculate_similarity(query_vector, doc_vector)\n",
        "        \n",
        "    sorted_similarity = sorted(champ_similarity.items(), key=lambda x: x[1], reverse=True)\n",
        "    return [doc[0] for doc in sorted_similarity[0: K]]"
      ]
    },
    {
      "cell_type": "code",
      "execution_count": null,
      "id": "17a9597e",
      "metadata": {
        "scrolled": true,
        "id": "17a9597e"
      },
      "outputs": [],
      "source": [
        "champion_list = champion_index(idf, docs_term_frequency, 10)"
      ]
    },
    {
      "cell_type": "markdown",
      "source": [
        "#Search results with **ranked retrieval**\n",
        "\n"
      ],
      "metadata": {
        "id": "Z_sEKBSm5E6c"
      },
      "id": "Z_sEKBSm5E6c"
    },
    {
      "cell_type": "code",
      "execution_count": null,
      "id": "e2548c3c",
      "metadata": {
        "id": "e2548c3c",
        "outputId": "e7646954-e158-49b2-ef44-a0a95245d75f"
      },
      "outputs": [
        {
          "data": {
            "text/html": [
              "<div>\n",
              "<style scoped>\n",
              "    .dataframe tbody tr th:only-of-type {\n",
              "        vertical-align: middle;\n",
              "    }\n",
              "\n",
              "    .dataframe tbody tr th {\n",
              "        vertical-align: top;\n",
              "    }\n",
              "\n",
              "    .dataframe thead th {\n",
              "        text-align: right;\n",
              "    }\n",
              "</style>\n",
              "<table border=\"1\" class=\"dataframe\">\n",
              "  <thead>\n",
              "    <tr style=\"text-align: right;\">\n",
              "      <th></th>\n",
              "      <th>url</th>\n",
              "      <th>title</th>\n",
              "    </tr>\n",
              "  </thead>\n",
              "  <tbody>\n",
              "    <tr>\n",
              "      <th>2831</th>\n",
              "      <td>https://www.farsnews.ir/news/14001116000751/اف...</td>\n",
              "      <td>افشای دلایل جدایی پروفسور از هندبال ایران| فرن...</td>\n",
              "    </tr>\n",
              "    <tr>\n",
              "      <th>10757</th>\n",
              "      <td>https://www.farsnews.ir/news/14000821000097/را...</td>\n",
              "      <td>راهبرد «مذاکره هسته‌ای نداریم» چگونه تأمین کنن...</td>\n",
              "    </tr>\n",
              "    <tr>\n",
              "      <th>6929</th>\n",
              "      <td>https://www.farsnews.ir/news/14001222000450/تو...</td>\n",
              "      <td>توضیحات یک منبع آگاه درباره وقفه مذاکرات وین</td>\n",
              "    </tr>\n",
              "    <tr>\n",
              "      <th>9882</th>\n",
              "      <td>https://www.farsnews.ir/news/14000919000089/چر...</td>\n",
              "      <td>چرا غرب مجبور به تمکین از خواسته‌ تهران است؟/ ...</td>\n",
              "    </tr>\n",
              "    <tr>\n",
              "      <th>12165</th>\n",
              "      <td>https://www.farsnews.ir/news/14000724000463/گف...</td>\n",
              "      <td>گفت‌وگو با کارشناس مسائل قفقاز| منازعه آذربایج...</td>\n",
              "    </tr>\n",
              "    <tr>\n",
              "      <th>9742</th>\n",
              "      <td>https://www.farsnews.ir/news/14000924000773/مر...</td>\n",
              "      <td>مرکز پژوهش‌های مجلس: مذاکرات وین به توافقی زود...</td>\n",
              "    </tr>\n",
              "    <tr>\n",
              "      <th>9496</th>\n",
              "      <td>https://www.farsnews.ir/news/14000926000385/گف...</td>\n",
              "      <td>گفت‌وگوی مشروح | ترقی: آمریکا شروط ایران را نپ...</td>\n",
              "    </tr>\n",
              "    <tr>\n",
              "      <th>11864</th>\n",
              "      <td>https://www.farsnews.ir/news/14000803000676/اه...</td>\n",
              "      <td>اهرم‌سازی از افغانستان در برجام/ نقطه عزیمت آم...</td>\n",
              "    </tr>\n",
              "    <tr>\n",
              "      <th>11928</th>\n",
              "      <td>https://www.farsnews.ir/news/14000801000437/نا...</td>\n",
              "      <td>نامه جمعی از اساتید و متخصصان/ آقای رئیس‌جمهور...</td>\n",
              "    </tr>\n",
              "    <tr>\n",
              "      <th>7778</th>\n",
              "      <td>https://www.farsnews.ir/news/14001121000352/دع...</td>\n",
              "      <td>دعوت احزاب و شخصیت‌های سیاسی از مردم برای حضور...</td>\n",
              "    </tr>\n",
              "  </tbody>\n",
              "</table>\n",
              "</div>"
            ],
            "text/plain": [
              "                                                     url  \\\n",
              "2831   https://www.farsnews.ir/news/14001116000751/اف...   \n",
              "10757  https://www.farsnews.ir/news/14000821000097/را...   \n",
              "6929   https://www.farsnews.ir/news/14001222000450/تو...   \n",
              "9882   https://www.farsnews.ir/news/14000919000089/چر...   \n",
              "12165  https://www.farsnews.ir/news/14000724000463/گف...   \n",
              "9742   https://www.farsnews.ir/news/14000924000773/مر...   \n",
              "9496   https://www.farsnews.ir/news/14000926000385/گف...   \n",
              "11864  https://www.farsnews.ir/news/14000803000676/اه...   \n",
              "11928  https://www.farsnews.ir/news/14000801000437/نا...   \n",
              "7778   https://www.farsnews.ir/news/14001121000352/دع...   \n",
              "\n",
              "                                                   title  \n",
              "2831   افشای دلایل جدایی پروفسور از هندبال ایران| فرن...  \n",
              "10757  راهبرد «مذاکره هسته‌ای نداریم» چگونه تأمین کنن...  \n",
              "6929        توضیحات یک منبع آگاه درباره وقفه مذاکرات وین  \n",
              "9882   چرا غرب مجبور به تمکین از خواسته‌ تهران است؟/ ...  \n",
              "12165  گفت‌وگو با کارشناس مسائل قفقاز| منازعه آذربایج...  \n",
              "9742   مرکز پژوهش‌های مجلس: مذاکرات وین به توافقی زود...  \n",
              "9496   گفت‌وگوی مشروح | ترقی: آمریکا شروط ایران را نپ...  \n",
              "11864  اهرم‌سازی از افغانستان در برجام/ نقطه عزیمت آم...  \n",
              "11928  نامه جمعی از اساتید و متخصصان/ آقای رئیس‌جمهور...  \n",
              "7778   دعوت احزاب و شخصیت‌های سیاسی از مردم برای حضور...  "
            ]
          },
          "execution_count": 85,
          "metadata": {},
          "output_type": "execute_result"
        }
      ],
      "source": [
        "show_result(similarity_champion_search(champion_list, docs_term_frequency, 10, \"ایران\"), data)"
      ]
    },
    {
      "cell_type": "code",
      "execution_count": null,
      "id": "5668e28b",
      "metadata": {
        "id": "5668e28b",
        "outputId": "3698821c-e8d7-45dd-df23-113be394b1a3"
      },
      "outputs": [
        {
          "data": {
            "text/html": [
              "<div>\n",
              "<style scoped>\n",
              "    .dataframe tbody tr th:only-of-type {\n",
              "        vertical-align: middle;\n",
              "    }\n",
              "\n",
              "    .dataframe tbody tr th {\n",
              "        vertical-align: top;\n",
              "    }\n",
              "\n",
              "    .dataframe thead th {\n",
              "        text-align: right;\n",
              "    }\n",
              "</style>\n",
              "<table border=\"1\" class=\"dataframe\">\n",
              "  <thead>\n",
              "    <tr style=\"text-align: right;\">\n",
              "      <th></th>\n",
              "      <th>url</th>\n",
              "      <th>title</th>\n",
              "    </tr>\n",
              "  </thead>\n",
              "  <tbody>\n",
              "    <tr>\n",
              "      <th>10757</th>\n",
              "      <td>https://www.farsnews.ir/news/14000821000097/را...</td>\n",
              "      <td>راهبرد «مذاکره هسته‌ای نداریم» چگونه تأمین کنن...</td>\n",
              "    </tr>\n",
              "    <tr>\n",
              "      <th>7059</th>\n",
              "      <td>https://www.farsnews.ir/news/14001218000420/مذ...</td>\n",
              "      <td>مذاکره‌کنندگان مراقب باشند تجربه تلخ برجام و ب...</td>\n",
              "    </tr>\n",
              "    <tr>\n",
              "      <th>7731</th>\n",
              "      <td>https://www.farsnews.ir/news/14001123000508/نش...</td>\n",
              "      <td>نشست بررسی روند مذاکرات| آمریکا استاد دور زدن‌...</td>\n",
              "    </tr>\n",
              "    <tr>\n",
              "      <th>6929</th>\n",
              "      <td>https://www.farsnews.ir/news/14001222000450/تو...</td>\n",
              "      <td>توضیحات یک منبع آگاه درباره وقفه مذاکرات وین</td>\n",
              "    </tr>\n",
              "    <tr>\n",
              "      <th>6963</th>\n",
              "      <td>https://www.farsnews.ir/news/14001221000788/سی...</td>\n",
              "      <td>سیاست‌گذاری‌های ارزی دهه 90 همواره در جهت تضعی...</td>\n",
              "    </tr>\n",
              "    <tr>\n",
              "      <th>9418</th>\n",
              "      <td>https://www.farsnews.ir/news/14001005000843/با...</td>\n",
              "      <td>بازخوانی | بیانات رهبر انقلاب در دیدار دست‌اند...</td>\n",
              "    </tr>\n",
              "    <tr>\n",
              "      <th>9742</th>\n",
              "      <td>https://www.farsnews.ir/news/14000924000773/مر...</td>\n",
              "      <td>مرکز پژوهش‌های مجلس: مذاکرات وین به توافقی زود...</td>\n",
              "    </tr>\n",
              "    <tr>\n",
              "      <th>11864</th>\n",
              "      <td>https://www.farsnews.ir/news/14000803000676/اه...</td>\n",
              "      <td>اهرم‌سازی از افغانستان در برجام/ نقطه عزیمت آم...</td>\n",
              "    </tr>\n",
              "    <tr>\n",
              "      <th>11341</th>\n",
              "      <td>https://www.farsnews.ir/news/14000816000568/ما...</td>\n",
              "      <td>ماجرای  دستگیری دو دانشمند ایرانی در آمریکا/ س...</td>\n",
              "    </tr>\n",
              "    <tr>\n",
              "      <th>10806</th>\n",
              "      <td>https://www.farsnews.ir/news/14000808000646/دو...</td>\n",
              "      <td>دولت خاتمی ۶ میلیارد دلار پول نفت را به خزانه ...</td>\n",
              "    </tr>\n",
              "  </tbody>\n",
              "</table>\n",
              "</div>"
            ],
            "text/plain": [
              "                                                     url  \\\n",
              "10757  https://www.farsnews.ir/news/14000821000097/را...   \n",
              "7059   https://www.farsnews.ir/news/14001218000420/مذ...   \n",
              "7731   https://www.farsnews.ir/news/14001123000508/نش...   \n",
              "6929   https://www.farsnews.ir/news/14001222000450/تو...   \n",
              "6963   https://www.farsnews.ir/news/14001221000788/سی...   \n",
              "9418   https://www.farsnews.ir/news/14001005000843/با...   \n",
              "9742   https://www.farsnews.ir/news/14000924000773/مر...   \n",
              "11864  https://www.farsnews.ir/news/14000803000676/اه...   \n",
              "11341  https://www.farsnews.ir/news/14000816000568/ما...   \n",
              "10806  https://www.farsnews.ir/news/14000808000646/دو...   \n",
              "\n",
              "                                                   title  \n",
              "10757  راهبرد «مذاکره هسته‌ای نداریم» چگونه تأمین کنن...  \n",
              "7059   مذاکره‌کنندگان مراقب باشند تجربه تلخ برجام و ب...  \n",
              "7731   نشست بررسی روند مذاکرات| آمریکا استاد دور زدن‌...  \n",
              "6929        توضیحات یک منبع آگاه درباره وقفه مذاکرات وین  \n",
              "6963   سیاست‌گذاری‌های ارزی دهه 90 همواره در جهت تضعی...  \n",
              "9418   بازخوانی | بیانات رهبر انقلاب در دیدار دست‌اند...  \n",
              "9742   مرکز پژوهش‌های مجلس: مذاکرات وین به توافقی زود...  \n",
              "11864  اهرم‌سازی از افغانستان در برجام/ نقطه عزیمت آم...  \n",
              "11341  ماجرای  دستگیری دو دانشمند ایرانی در آمریکا/ س...  \n",
              "10806  دولت خاتمی ۶ میلیارد دلار پول نفت را به خزانه ...  "
            ]
          },
          "execution_count": 87,
          "metadata": {},
          "output_type": "execute_result"
        }
      ],
      "source": [
        "show_result(similarity_champion_search(champion_list, docs_term_frequency, 10, \"تحریم ایران\"), data)"
      ]
    },
    {
      "cell_type": "code",
      "execution_count": null,
      "id": "9e41330a",
      "metadata": {
        "id": "9e41330a",
        "outputId": "d973f42b-a977-4c88-f8fe-1f9243a11591"
      },
      "outputs": [
        {
          "data": {
            "text/html": [
              "<div>\n",
              "<style scoped>\n",
              "    .dataframe tbody tr th:only-of-type {\n",
              "        vertical-align: middle;\n",
              "    }\n",
              "\n",
              "    .dataframe tbody tr th {\n",
              "        vertical-align: top;\n",
              "    }\n",
              "\n",
              "    .dataframe thead th {\n",
              "        text-align: right;\n",
              "    }\n",
              "</style>\n",
              "<table border=\"1\" class=\"dataframe\">\n",
              "  <thead>\n",
              "    <tr style=\"text-align: right;\">\n",
              "      <th></th>\n",
              "      <th>url</th>\n",
              "      <th>title</th>\n",
              "    </tr>\n",
              "  </thead>\n",
              "  <tbody>\n",
              "    <tr>\n",
              "      <th>6330</th>\n",
              "      <td>https://www.farsnews.ir/news/14001002000158/مح...</td>\n",
              "      <td>محکومیت حضور کاروان ورزشی رژیم صهیونستی در اما...</td>\n",
              "    </tr>\n",
              "    <tr>\n",
              "      <th>6621</th>\n",
              "      <td>https://www.farsnews.ir/news/14000928000230/ات...</td>\n",
              "      <td>اتفاق عجیب در ادامه عادی سازی روابط رژیم اشغال...</td>\n",
              "    </tr>\n",
              "    <tr>\n",
              "      <th>6524</th>\n",
              "      <td>https://www.farsnews.ir/news/14000929000102/مه...</td>\n",
              "      <td>مهدوی‌کیا حامل پرچم رژیم اشغالگر شد!/ خشم صهیو...</td>\n",
              "    </tr>\n",
              "    <tr>\n",
              "      <th>6451</th>\n",
              "      <td>https://www.farsnews.ir/news/14000929000460/مو...</td>\n",
              "      <td>موج اعتراضات از ایران به عراق رسید/ محکومیت یو...</td>\n",
              "    </tr>\n",
              "    <tr>\n",
              "      <th>6174</th>\n",
              "      <td>https://www.farsnews.ir/news/14001004000131/مه...</td>\n",
              "      <td>مهدوی‌کیا به جای عذرخواهی در دام صهیونیست‌ها ا...</td>\n",
              "    </tr>\n",
              "    <tr>\n",
              "      <th>6115</th>\n",
              "      <td>https://www.farsnews.ir/news/14001005000171/چر...</td>\n",
              "      <td>چرا ماجرای مهدوی‌کیا اهمیت دارد؟</td>\n",
              "    </tr>\n",
              "    <tr>\n",
              "      <th>11974</th>\n",
              "      <td>https://www.farsnews.ir/news/14000729000313/پی...</td>\n",
              "      <td>پیروزی‌های جبهه مقاومت با وحدت در امت واحده اس...</td>\n",
              "    </tr>\n",
              "    <tr>\n",
              "      <th>9440</th>\n",
              "      <td>https://www.farsnews.ir/news/14001005000248/مه...</td>\n",
              "      <td>مهدوی‌کیا، وزارت ورزش و سؤالات بی‌پاسخ در قبال...</td>\n",
              "    </tr>\n",
              "    <tr>\n",
              "      <th>7806</th>\n",
              "      <td>https://www.farsnews.ir/news/14001120000821/کا...</td>\n",
              "      <td>کارشکنی نفوذی‌ها و بی عرضگی تفکر غرب‌گرا دلیل ...</td>\n",
              "    </tr>\n",
              "    <tr>\n",
              "      <th>9309</th>\n",
              "      <td>https://www.farsnews.ir/news/14001008000293/شر...</td>\n",
              "      <td>شرح فتنه‌ تغلب/ چه کسی جواب خون‌ها را می‌دهد؟</td>\n",
              "    </tr>\n",
              "  </tbody>\n",
              "</table>\n",
              "</div>"
            ],
            "text/plain": [
              "                                                     url  \\\n",
              "6330   https://www.farsnews.ir/news/14001002000158/مح...   \n",
              "6621   https://www.farsnews.ir/news/14000928000230/ات...   \n",
              "6524   https://www.farsnews.ir/news/14000929000102/مه...   \n",
              "6451   https://www.farsnews.ir/news/14000929000460/مو...   \n",
              "6174   https://www.farsnews.ir/news/14001004000131/مه...   \n",
              "6115   https://www.farsnews.ir/news/14001005000171/چر...   \n",
              "11974  https://www.farsnews.ir/news/14000729000313/پی...   \n",
              "9440   https://www.farsnews.ir/news/14001005000248/مه...   \n",
              "7806   https://www.farsnews.ir/news/14001120000821/کا...   \n",
              "9309   https://www.farsnews.ir/news/14001008000293/شر...   \n",
              "\n",
              "                                                   title  \n",
              "6330   محکومیت حضور کاروان ورزشی رژیم صهیونستی در اما...  \n",
              "6621   اتفاق عجیب در ادامه عادی سازی روابط رژیم اشغال...  \n",
              "6524   مهدوی‌کیا حامل پرچم رژیم اشغالگر شد!/ خشم صهیو...  \n",
              "6451   موج اعتراضات از ایران به عراق رسید/ محکومیت یو...  \n",
              "6174   مهدوی‌کیا به جای عذرخواهی در دام صهیونیست‌ها ا...  \n",
              "6115                    چرا ماجرای مهدوی‌کیا اهمیت دارد؟  \n",
              "11974  پیروزی‌های جبهه مقاومت با وحدت در امت واحده اس...  \n",
              "9440   مهدوی‌کیا، وزارت ورزش و سؤالات بی‌پاسخ در قبال...  \n",
              "7806   کارشکنی نفوذی‌ها و بی عرضگی تفکر غرب‌گرا دلیل ...  \n",
              "9309       شرح فتنه‌ تغلب/ چه کسی جواب خون‌ها را می‌دهد؟  "
            ]
          },
          "execution_count": 88,
          "metadata": {},
          "output_type": "execute_result"
        }
      ],
      "source": [
        "show_result(similarity_champion_search(champion_list, docs_term_frequency, 10, \"صهیونیست\"), data)"
      ]
    },
    {
      "cell_type": "code",
      "execution_count": null,
      "id": "3f9c0e99",
      "metadata": {
        "id": "3f9c0e99",
        "outputId": "274380db-d85b-481a-e07c-a0d26d5bd64e"
      },
      "outputs": [
        {
          "data": {
            "text/html": [
              "<div>\n",
              "<style scoped>\n",
              "    .dataframe tbody tr th:only-of-type {\n",
              "        vertical-align: middle;\n",
              "    }\n",
              "\n",
              "    .dataframe tbody tr th {\n",
              "        vertical-align: top;\n",
              "    }\n",
              "\n",
              "    .dataframe thead th {\n",
              "        text-align: right;\n",
              "    }\n",
              "</style>\n",
              "<table border=\"1\" class=\"dataframe\">\n",
              "  <thead>\n",
              "    <tr style=\"text-align: right;\">\n",
              "      <th></th>\n",
              "      <th>url</th>\n",
              "      <th>title</th>\n",
              "    </tr>\n",
              "  </thead>\n",
              "  <tbody>\n",
              "    <tr>\n",
              "      <th>666</th>\n",
              "      <td>https://www.farsnews.ir/news/14001215000961/تا...</td>\n",
              "      <td>تارتار: بی دلیل نیست فولاد در اهواز شکست نمی خ...</td>\n",
              "    </tr>\n",
              "    <tr>\n",
              "      <th>1032</th>\n",
              "      <td>https://www.farsnews.ir/news/14001209001155/رب...</td>\n",
              "      <td>ربیعی: روی اشتباهات خودمان به پرسپولیس باختیم/...</td>\n",
              "    </tr>\n",
              "    <tr>\n",
              "      <th>779</th>\n",
              "      <td>https://www.farsnews.ir/news/14001214000618/مه...</td>\n",
              "      <td>مهر تایید انتقال امباپه به رئال در اردوی دشمن</td>\n",
              "    </tr>\n",
              "    <tr>\n",
              "      <th>682</th>\n",
              "      <td>https://www.farsnews.ir/news/14001215000889/عن...</td>\n",
              "      <td>عنایتی: توانستیم از یک بازی سخت امتیاز بگیریم/...</td>\n",
              "    </tr>\n",
              "    <tr>\n",
              "      <th>7030</th>\n",
              "      <td>https://www.farsnews.ir/news/14001219000158/بر...</td>\n",
              "      <td>برای نابودی فساد باید به سمت تحقق عدالت برویم</td>\n",
              "    </tr>\n",
              "    <tr>\n",
              "      <th>11896</th>\n",
              "      <td>https://www.farsnews.ir/news/14000803000174/با...</td>\n",
              "      <td>باید در عرصه تقریب به نوسازی و تولید نظریه دست...</td>\n",
              "    </tr>\n",
              "    <tr>\n",
              "      <th>1824</th>\n",
              "      <td>https://www.farsnews.ir/news/14001130000599/سا...</td>\n",
              "      <td>ساکت: فراز و نشیب‌های سپاهان برای ما هم تلخ بو...</td>\n",
              "    </tr>\n",
              "    <tr>\n",
              "      <th>11287</th>\n",
              "      <td>https://www.farsnews.ir/news/14000818000258/سر...</td>\n",
              "      <td>سرلشکر موسوی: نیروهای مسلح پشتیبان دیپلمات‌ها ...</td>\n",
              "    </tr>\n",
              "    <tr>\n",
              "      <th>7757</th>\n",
              "      <td>https://www.farsnews.ir/news/14001122000194/رئ...</td>\n",
              "      <td>رئیسی: امید ما به مردم است، نه وین و نیویورک</td>\n",
              "    </tr>\n",
              "    <tr>\n",
              "      <th>11052</th>\n",
              "      <td>https://www.farsnews.ir/news/14000823000877/کا...</td>\n",
              "      <td>کامل‌ترین کتاب فقهی حضرت آیت‌الله خامنه‌ای در ...</td>\n",
              "    </tr>\n",
              "  </tbody>\n",
              "</table>\n",
              "</div>"
            ],
            "text/plain": [
              "                                                     url  \\\n",
              "666    https://www.farsnews.ir/news/14001215000961/تا...   \n",
              "1032   https://www.farsnews.ir/news/14001209001155/رب...   \n",
              "779    https://www.farsnews.ir/news/14001214000618/مه...   \n",
              "682    https://www.farsnews.ir/news/14001215000889/عن...   \n",
              "7030   https://www.farsnews.ir/news/14001219000158/بر...   \n",
              "11896  https://www.farsnews.ir/news/14000803000174/با...   \n",
              "1824   https://www.farsnews.ir/news/14001130000599/سا...   \n",
              "11287  https://www.farsnews.ir/news/14000818000258/سر...   \n",
              "7757   https://www.farsnews.ir/news/14001122000194/رئ...   \n",
              "11052  https://www.farsnews.ir/news/14000823000877/کا...   \n",
              "\n",
              "                                                   title  \n",
              "666    تارتار: بی دلیل نیست فولاد در اهواز شکست نمی خ...  \n",
              "1032   ربیعی: روی اشتباهات خودمان به پرسپولیس باختیم/...  \n",
              "779        مهر تایید انتقال امباپه به رئال در اردوی دشمن  \n",
              "682    عنایتی: توانستیم از یک بازی سخت امتیاز بگیریم/...  \n",
              "7030       برای نابودی فساد باید به سمت تحقق عدالت برویم  \n",
              "11896  باید در عرصه تقریب به نوسازی و تولید نظریه دست...  \n",
              "1824   ساکت: فراز و نشیب‌های سپاهان برای ما هم تلخ بو...  \n",
              "11287  سرلشکر موسوی: نیروهای مسلح پشتیبان دیپلمات‌ها ...  \n",
              "7757        رئیسی: امید ما به مردم است، نه وین و نیویورک  \n",
              "11052  کامل‌ترین کتاب فقهی حضرت آیت‌الله خامنه‌ای در ...  "
            ]
          },
          "execution_count": 89,
          "metadata": {},
          "output_type": "execute_result"
        }
      ],
      "source": [
        "show_result(similarity_champion_search(champion_list, docs_term_frequency, 10, \"پرسمان چند کلمه‌ای\"), data)"
      ]
    },
    {
      "cell_type": "code",
      "execution_count": null,
      "id": "404fab91",
      "metadata": {
        "id": "404fab91",
        "outputId": "498391bf-ed85-4690-cdde-b1931cd6dc93"
      },
      "outputs": [
        {
          "data": {
            "text/html": [
              "<div>\n",
              "<style scoped>\n",
              "    .dataframe tbody tr th:only-of-type {\n",
              "        vertical-align: middle;\n",
              "    }\n",
              "\n",
              "    .dataframe tbody tr th {\n",
              "        vertical-align: top;\n",
              "    }\n",
              "\n",
              "    .dataframe thead th {\n",
              "        text-align: right;\n",
              "    }\n",
              "</style>\n",
              "<table border=\"1\" class=\"dataframe\">\n",
              "  <thead>\n",
              "    <tr style=\"text-align: right;\">\n",
              "      <th></th>\n",
              "      <th>url</th>\n",
              "      <th>title</th>\n",
              "    </tr>\n",
              "  </thead>\n",
              "  <tbody>\n",
              "    <tr>\n",
              "      <th>127</th>\n",
              "      <td>https://www.farsnews.ir/news/14001222000684/رئ...</td>\n",
              "      <td>رئیس فیفا تماشاگر بازی رقبای ایران می شود</td>\n",
              "    </tr>\n",
              "    <tr>\n",
              "      <th>786</th>\n",
              "      <td>https://www.farsnews.ir/news/14001214000461/رئ...</td>\n",
              "      <td>رئیس فدراسیون تنیس روی‌میز: ملی‌پوشان ناراضی ن...</td>\n",
              "    </tr>\n",
              "    <tr>\n",
              "      <th>1094</th>\n",
              "      <td>https://www.farsnews.ir/news/14001209000780/در...</td>\n",
              "      <td>درخواست همگروه ایران برای تغییر برنامه‌اش در ا...</td>\n",
              "    </tr>\n",
              "    <tr>\n",
              "      <th>1122</th>\n",
              "      <td>https://www.farsnews.ir/news/14001209000334/VA...</td>\n",
              "      <td>VAR به عراق رسید/دیدار رقبای ایران با کمک داور...</td>\n",
              "    </tr>\n",
              "    <tr>\n",
              "      <th>1315</th>\n",
              "      <td>https://www.farsnews.ir/news/14001207000109/هم...</td>\n",
              "      <td>همگروه ایران برای رفع تحریم دست به دامن عربستا...</td>\n",
              "    </tr>\n",
              "    <tr>\n",
              "      <th>...</th>\n",
              "      <td>...</td>\n",
              "      <td>...</td>\n",
              "    </tr>\n",
              "    <tr>\n",
              "      <th>12186</th>\n",
              "      <td>https://www.farsnews.ir/news/14000725000158/در...</td>\n",
              "      <td>در هر هفته‌ 17 میلیون دز واکسن به کشور وارد می...</td>\n",
              "    </tr>\n",
              "    <tr>\n",
              "      <th>12187</th>\n",
              "      <td>https://www.farsnews.ir/news/14000725000143/قا...</td>\n",
              "      <td>قالیباف: محرمانه بودن اموال مسئولان مصوبه مجلس...</td>\n",
              "    </tr>\n",
              "    <tr>\n",
              "      <th>12190</th>\n",
              "      <td>https://www.farsnews.ir/news/14000725000113/جز...</td>\n",
              "      <td>جزئیات نشست غیرعلنی مجلس/ امیرعبداللهیان: اقدا...</td>\n",
              "    </tr>\n",
              "    <tr>\n",
              "      <th>12198</th>\n",
              "      <td>https://www.farsnews.ir/news/14000724000611/نق...</td>\n",
              "      <td>نقدی بر یادداشت «مرزبندی گفتمانی با طالبان»/ و...</td>\n",
              "    </tr>\n",
              "    <tr>\n",
              "      <th>12200</th>\n",
              "      <td>https://www.farsnews.ir/news/14000724000651/مح...</td>\n",
              "      <td>محسن اسلامی مدیرکل دفتر امور سیاسی وزارت کشور شد</td>\n",
              "    </tr>\n",
              "  </tbody>\n",
              "</table>\n",
              "<p>3744 rows × 2 columns</p>\n",
              "</div>"
            ],
            "text/plain": [
              "                                                     url  \\\n",
              "127    https://www.farsnews.ir/news/14001222000684/رئ...   \n",
              "786    https://www.farsnews.ir/news/14001214000461/رئ...   \n",
              "1094   https://www.farsnews.ir/news/14001209000780/در...   \n",
              "1122   https://www.farsnews.ir/news/14001209000334/VA...   \n",
              "1315   https://www.farsnews.ir/news/14001207000109/هم...   \n",
              "...                                                  ...   \n",
              "12186  https://www.farsnews.ir/news/14000725000158/در...   \n",
              "12187  https://www.farsnews.ir/news/14000725000143/قا...   \n",
              "12190  https://www.farsnews.ir/news/14000725000113/جز...   \n",
              "12198  https://www.farsnews.ir/news/14000724000611/نق...   \n",
              "12200  https://www.farsnews.ir/news/14000724000651/مح...   \n",
              "\n",
              "                                                   title  \n",
              "127            رئیس فیفا تماشاگر بازی رقبای ایران می شود  \n",
              "786    رئیس فدراسیون تنیس روی‌میز: ملی‌پوشان ناراضی ن...  \n",
              "1094   درخواست همگروه ایران برای تغییر برنامه‌اش در ا...  \n",
              "1122   VAR به عراق رسید/دیدار رقبای ایران با کمک داور...  \n",
              "1315   همگروه ایران برای رفع تحریم دست به دامن عربستا...  \n",
              "...                                                  ...  \n",
              "12186  در هر هفته‌ 17 میلیون دز واکسن به کشور وارد می...  \n",
              "12187  قالیباف: محرمانه بودن اموال مسئولان مصوبه مجلس...  \n",
              "12190  جزئیات نشست غیرعلنی مجلس/ امیرعبداللهیان: اقدا...  \n",
              "12198  نقدی بر یادداشت «مرزبندی گفتمانی با طالبان»/ و...  \n",
              "12200   محسن اسلامی مدیرکل دفتر امور سیاسی وزارت کشور شد  \n",
              "\n",
              "[3744 rows x 2 columns]"
            ]
          },
          "execution_count": 90,
          "metadata": {},
          "output_type": "execute_result"
        }
      ],
      "source": [
        "show_result(search('تحریم ایران', positional_index), data)"
      ]
    },
    {
      "cell_type": "code",
      "execution_count": null,
      "id": "60981455",
      "metadata": {
        "id": "60981455",
        "outputId": "db01899d-b98b-4617-8d6a-2a0a994a3beb"
      },
      "outputs": [
        {
          "data": {
            "text/html": [
              "<div>\n",
              "<style scoped>\n",
              "    .dataframe tbody tr th:only-of-type {\n",
              "        vertical-align: middle;\n",
              "    }\n",
              "\n",
              "    .dataframe tbody tr th {\n",
              "        vertical-align: top;\n",
              "    }\n",
              "\n",
              "    .dataframe thead th {\n",
              "        text-align: right;\n",
              "    }\n",
              "</style>\n",
              "<table border=\"1\" class=\"dataframe\">\n",
              "  <thead>\n",
              "    <tr style=\"text-align: right;\">\n",
              "      <th></th>\n",
              "      <th>url</th>\n",
              "      <th>title</th>\n",
              "    </tr>\n",
              "  </thead>\n",
              "  <tbody>\n",
              "    <tr>\n",
              "      <th>7707</th>\n",
              "      <td>https://www.farsnews.ir/news/14001124000456/تف...</td>\n",
              "      <td>تفکر انجمن حجتیه نتیجه ترس مقابل دربار شاه بود</td>\n",
              "    </tr>\n",
              "    <tr>\n",
              "      <th>7757</th>\n",
              "      <td>https://www.farsnews.ir/news/14001122000194/رئ...</td>\n",
              "      <td>رئیسی: امید ما به مردم است، نه وین و نیویورک</td>\n",
              "    </tr>\n",
              "    <tr>\n",
              "      <th>10122</th>\n",
              "      <td>https://www.farsnews.ir/news/14000916000283/نم...</td>\n",
              "      <td>نماینده بسیج دانشجویی در دیدار با رئیسی: شرایط...</td>\n",
              "    </tr>\n",
              "    <tr>\n",
              "      <th>10278</th>\n",
              "      <td>https://www.farsnews.ir/news/14000912000414/ما...</td>\n",
              "      <td>ماجرای هماهنگی با حاکم بلوچستان پاکستان برای آ...</td>\n",
              "    </tr>\n",
              "    <tr>\n",
              "      <th>11369</th>\n",
              "      <td>https://www.farsnews.ir/news/14000816000476/در...</td>\n",
              "      <td>در نشست علنی امروز مجلس چه گذشت؟/گام نخست وکلا...</td>\n",
              "    </tr>\n",
              "    <tr>\n",
              "      <th>...</th>\n",
              "      <td>...</td>\n",
              "      <td>...</td>\n",
              "    </tr>\n",
              "    <tr>\n",
              "      <th>11945</th>\n",
              "      <td>https://www.farsnews.ir/news/14000722000210/چر...</td>\n",
              "      <td>چرا مخالفان بنی‌صدر، یکباره حامی او شدند؟/ اول...</td>\n",
              "    </tr>\n",
              "    <tr>\n",
              "      <th>11974</th>\n",
              "      <td>https://www.farsnews.ir/news/14000729000313/پی...</td>\n",
              "      <td>پیروزی‌های جبهه مقاومت با وحدت در امت واحده اس...</td>\n",
              "    </tr>\n",
              "    <tr>\n",
              "      <th>12050</th>\n",
              "      <td>https://www.farsnews.ir/news/14000727000934/شو...</td>\n",
              "      <td>شورای هماهنگی تبلیغات اسلامی: با هم پیمانی با ...</td>\n",
              "    </tr>\n",
              "    <tr>\n",
              "      <th>12063</th>\n",
              "      <td>https://www.farsnews.ir/news/14000727000591/رو...</td>\n",
              "      <td>روایت رئیس دفتر نظامی رهبر انقلاب از نقش سرلشک...</td>\n",
              "    </tr>\n",
              "    <tr>\n",
              "      <th>12088</th>\n",
              "      <td>https://www.farsnews.ir/news/14000727000207/آی...</td>\n",
              "      <td>آیت‌الله رئیسی: شهید سلیمانی در جهان اسلام اقد...</td>\n",
              "    </tr>\n",
              "  </tbody>\n",
              "</table>\n",
              "<p>276 rows × 2 columns</p>\n",
              "</div>"
            ],
            "text/plain": [
              "                                                     url  \\\n",
              "7707   https://www.farsnews.ir/news/14001124000456/تف...   \n",
              "7757   https://www.farsnews.ir/news/14001122000194/رئ...   \n",
              "10122  https://www.farsnews.ir/news/14000916000283/نم...   \n",
              "10278  https://www.farsnews.ir/news/14000912000414/ما...   \n",
              "11369  https://www.farsnews.ir/news/14000816000476/در...   \n",
              "...                                                  ...   \n",
              "11945  https://www.farsnews.ir/news/14000722000210/چر...   \n",
              "11974  https://www.farsnews.ir/news/14000729000313/پی...   \n",
              "12050  https://www.farsnews.ir/news/14000727000934/شو...   \n",
              "12063  https://www.farsnews.ir/news/14000727000591/رو...   \n",
              "12088  https://www.farsnews.ir/news/14000727000207/آی...   \n",
              "\n",
              "                                                   title  \n",
              "7707      تفکر انجمن حجتیه نتیجه ترس مقابل دربار شاه بود  \n",
              "7757        رئیسی: امید ما به مردم است، نه وین و نیویورک  \n",
              "10122  نماینده بسیج دانشجویی در دیدار با رئیسی: شرایط...  \n",
              "10278  ماجرای هماهنگی با حاکم بلوچستان پاکستان برای آ...  \n",
              "11369  در نشست علنی امروز مجلس چه گذشت؟/گام نخست وکلا...  \n",
              "...                                                  ...  \n",
              "11945  چرا مخالفان بنی‌صدر، یکباره حامی او شدند؟/ اول...  \n",
              "11974  پیروزی‌های جبهه مقاومت با وحدت در امت واحده اس...  \n",
              "12050  شورای هماهنگی تبلیغات اسلامی: با هم پیمانی با ...  \n",
              "12063  روایت رئیس دفتر نظامی رهبر انقلاب از نقش سرلشک...  \n",
              "12088  آیت‌الله رئیسی: شهید سلیمانی در جهان اسلام اقد...  \n",
              "\n",
              "[276 rows x 2 columns]"
            ]
          },
          "execution_count": 91,
          "metadata": {},
          "output_type": "execute_result"
        }
      ],
      "source": [
        "show_result(search(\"پرسمان چند کلمه‌ای\", positional_index), data)"
      ]
    }
  ],
  "metadata": {
    "kernelspec": {
      "display_name": "Python 3 (ipykernel)",
      "language": "python",
      "name": "python3"
    },
    "language_info": {
      "codemirror_mode": {
        "name": "ipython",
        "version": 3
      },
      "file_extension": ".py",
      "mimetype": "text/x-python",
      "name": "python",
      "nbconvert_exporter": "python",
      "pygments_lexer": "ipython3",
      "version": "3.9.15"
    },
    "colab": {
      "provenance": []
    }
  },
  "nbformat": 4,
  "nbformat_minor": 5
}